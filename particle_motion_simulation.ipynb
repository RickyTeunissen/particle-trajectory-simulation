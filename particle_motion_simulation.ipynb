{
 "cells": [
  {
   "cell_type": "markdown",
   "metadata": {},
   "source": [
    "# A computer simulation of particle mitigation using a magnetic field\n",
    "Created by Ricky Teunissen  \n",
    "ASML group 16\n",
    "\n",
    "last time updated: 13/01/2022\n",
    "\n",
    "## General info\n",
    "The code in this file can be run to simulate particle trajectories particles with given properties in a superposition of force field would experience.\n",
    "Within this model, it has been chosen to place the reticle as a plane located at RETICLE_Z = 0.31 m.\n",
    "\n",
    "The code works by dividing the particles trajectorie in smaller section. At the end of every small timestep, newtons law is used to calculate the new velocity and position of the particle. This is doning using the runga-kutta method. In every simulation the particle starts at (0.0,0,0) and the simulation runs either till the particle has reached RETICLE_Z  or after 1e4 iterations (to prevent the code from getting stuck in a loop)\n",
    "\n",
    "__Some limitations of the models__:\n",
    "- The code in this file is not capable of calculating a change in flow by adding a magnet.\n",
    "- The code in this file assumes (time averaged) constant force fields. It does not work with particle-particle collisions. This is probably however not a problem since the contamination particles are large and it is hence a fine approximation to use a drag force (which is time averaged) as a replacement for the particle-particle collision.\n",
    "- All forcefields are simplifications of reality\n",
    "\n",
    "__NOTE__:\n",
    "The actual electric, flow, etc. fields within the used ASML machine are very complicated. We are never going to be able to understand and/or implement them. Instead this code should be used as a proof of concept, making it easyr to quickly see what multiple forces do. (This is probably also all we can do in these 10 weeks)\n",
    "\n",
    "__Coordinate system__:\n",
    "y goes __into__ the plane, x \"to the right\" and z \"up\"\n"
   ]
  },
  {
   "attachments": {
    "image.png": {
     "image/png": "[encoded data removed]"
    }
   },
   "cell_type": "markdown",
   "metadata": {},
   "source": [
    "![image.png](attachment:image.png)"
   ]
  },
  {
   "cell_type": "code",
   "execution_count": 58,
   "metadata": {},
   "outputs": [],
   "source": [
    "# the next line ensures that the plots appear within the notebook, the 2nd line ensure that the plot appears in a separate \n",
    "# window s.t. it can be rotated and saved, uncomment the preffered one:\n",
    "# %matplotlib inline\n",
    "%matplotlib qt\n",
    "\n",
    "import numpy as np\n",
    "import matplotlib.pyplot as plt\n",
    "from scipy import constants"
   ]
  },
  {
   "cell_type": "markdown",
   "metadata": {},
   "source": [
    "## Parameters to control/ particle properties"
   ]
  },
  {
   "cell_type": "code",
   "execution_count": 69,
   "metadata": {},
   "outputs": [],
   "source": [
    "TIMESTEP = 1e-4 # seconds\n",
    "RETICLE_Z = 0.31  #m\n",
    "PARTICLE_DENSITY = 4e3 #kg/m3 = density of water/metal-ish\n",
    "\n",
    "\n",
    "#constants\n",
    "eps0 = constants.value('vacuum electric permittivity')\n",
    "elementary_charge = constants.value('elementary charge')"
   ]
  },
  {
   "cell_type": "code",
   "execution_count": 60,
   "metadata": {},
   "outputs": [],
   "source": [
    "def calc_mass(radius: float):\n",
    "    \"\"\"\n",
    "    Returns the mass of the particle of a given radius. Assumes spherical particles with density PARTICLE_DENSITY \n",
    "    \"\"\"\n",
    "    mass = 4/3 * np.pi * (radius)**3 * PARTICLE_DENSITY\n",
    "    return mass"
   ]
  },
  {
   "cell_type": "code",
   "execution_count": 61,
   "metadata": {},
   "outputs": [],
   "source": [
    "def calc_charge(radius: float):\n",
    "    \"\"\"\n",
    "    Returns the charge of the particle in the plasma depending on its radius. \n",
    "    Here we make use of a  simplified charge model: the charge is linear with the radius, but we found that the \n",
    "    charge for a particle with a radius of 5 um is 1e4 e so we can relate this to the particle of our radius.\n",
    "    \n",
    "    \"\"\"\n",
    "    \n",
    "    charge_10um = -1e4*elementary_charge\n",
    "    charge_r = radius/(5e-6)*charge_10um  # compare to radius of 5e-6 and use fact that charge scales linearly\n",
    "    \n",
    "    return charge_r\n",
    "    "
   ]
  },
  {
   "cell_type": "markdown",
   "metadata": {},
   "source": [
    "## Force fields of interest\n",
    "This Section will be used to define the several force fields inside of the software. Every function is defined such that one only has to give the particle position and maybe some other quantities. The functions then return the strenght of the force working on the particle given this field."
   ]
  },
  {
   "cell_type": "code",
   "execution_count": 62,
   "metadata": {},
   "outputs": [],
   "source": [
    "def magnetic_field_force(pos, vel, charge: float, magnet_length:float = 0.3, field_strength: float = 1):\n",
    "    \"\"\"\n",
    "    This function will hold all of the information about the magnetic force field. For now the force field is defined as \n",
    "    a homogeneous magnetic force field in the y- direction (into the plane). In reality the B-field will \"leak out\" of the \n",
    "    area enclosed by the magnets, but for simplicity we don't consider this for now. Later, this can probably be added.\n",
    "    \n",
    "    This means that the magnetic field is present between RETTICLE_Z-0.01-magnet_length and RETTICLE_Z-0.01. \n",
    "    \n",
    "    The charge is the charge of the particle.\n",
    "    \n",
    "    The magnetic length is not yet included in any other code: it is just kept at the default.\n",
    "    \"\"\"\n",
    "    \n",
    "    B_field = np.array([0,field_strength,0])\n",
    "    \n",
    "    # Only B-field between the magnets\n",
    "    if (RETICLE_Z - 0.01 - magnet_length) < pos[2] < (RETICLE_Z -0.01) :\n",
    "        \n",
    "        # F = q v x B\n",
    "        Bforce = charge * np.cross(vel, B_field)\n",
    "        \n",
    "    else:\n",
    "        Bforce = np.array([0,0,0])\n",
    "        \n",
    "    return Bforce\n"
   ]
  },
  {
   "cell_type": "code",
   "execution_count": 63,
   "metadata": {},
   "outputs": [],
   "source": [
    "def retticle_attraction_force(pos: np.array, charge_particle: float):\n",
    "    \"\"\"\n",
    "    This function will hold all of the information about the retticle attraction force field.\n",
    "    \n",
    "    We for now neglect pariticle E-field and assume an E-field as generated by an infinite plate, but screening of the\n",
    "    plasma is taken into account. (see literature)\n",
    "    \n",
    "    \"\"\"\n",
    "    \n",
    "    debye_schielding = 0.0005  # typically 0.5 mm but can reach 20 mm outside laser area\n",
    "    E_at_retticle = 1e5        # V/m, worst case scenario assuming 40V in reality 20 times smaller\n",
    "    \n",
    "    distance_reticle = abs(RETICLE_Z- pos[2])\n",
    "   \n",
    "    # Reticle is positvely charged, we look at region below reticle so E-field in negative z-dir (away reticle)\n",
    "    strenght_E = E_at_retticle * np.exp(-distance_reticle/debye_schielding)\n",
    "    E_field = np.array([0,0, -strenght_E])\n",
    "    Eforce = charge_particle*E_field\n",
    "    \n",
    "    return Eforce"
   ]
  },
  {
   "attachments": {
    "image.png": {
     "image/png": "[encoded data removed]"
    }
   },
   "cell_type": "markdown",
   "metadata": {},
   "source": [
    "\n",
    "![image.png](attachment:image.png)"
   ]
  },
  {
   "cell_type": "code",
   "execution_count": 70,
   "metadata": {},
   "outputs": [],
   "source": [
    "def drag_force(pos: np.array, vel: np.array, radius: float)-> np.array:\n",
    "    \"\"\"\n",
    "    This function will return the drag force working on the particle.\n",
    "    For simplicity,do we assume that only 2 different homogeneous flow direction exist (see image).\n",
    "    We assume that the magnitude of the drag force in the upper channel is much higher than in the lower. Also the direction \n",
    "    changes.\n",
    "    \n",
    "    Airflow between magnets is assumed to be homogeneous and 100x smaller then between the masking blades and reticle\n",
    "    \n",
    "    Feel free to play with the gas velocity sizes.\n",
    "    \"\"\" \n",
    "    # within slit a flow of 100m/s to right\n",
    "    if RETICLE_Z-0.01 < pos[2] <= RETICLE_Z:\n",
    "        gas_velocity = np.array([100,0,0])\n",
    "        \n",
    "    # Airflow between magnets, magnet_length = 30 cm (play with velocity)\n",
    "    elif RETICLE_Z - 0.3 - 0.01 < pos[2] <= RETICLE_Z -0.01:\n",
    "        #gas_velocity = np.array([0,0,-1])\n",
    "        gas_velocity = np.array([0,0,0])\n",
    "    \n",
    "    # assume negligible flow after magnets (will spread out) \n",
    "    else:\n",
    "        gas_velocity = np.array([0,0,0])\n",
    "        \n",
    "    #calc drag force according to formula, assume all prefactors are constant.\n",
    "    drag_force = - 0.0189 * radius**2 * (vel - gas_velocity) \n",
    "    \n",
    "    return drag_force"
   ]
  },
  {
   "attachments": {
    "image.png": {
     "image/png": "[encoded data removed]"
    }
   },
   "cell_type": "markdown",
   "metadata": {},
   "source": [
    "![image.png](attachment:image.png)"
   ]
  },
  {
   "attachments": {
    "image.png": {
     "image/png": "[encoded data removed]"
    }
   },
   "cell_type": "markdown",
   "metadata": {},
   "source": [
    "![image.png](attachment:image.png)"
   ]
  },
  {
   "cell_type": "code",
   "execution_count": 71,
   "metadata": {},
   "outputs": [],
   "source": [
    "def gravity_force(radius:float):\n",
    "    \"\"\"\n",
    "    Calculates the gravity force, again we assume spherical particles with the previously defined density. The reticle is \n",
    "    placed upside down so gravity will point away from it.\n",
    "    \"\"\"\n",
    "\n",
    "    particle_mass = 4/3 * np.pi * (radius)**3 * PARTICLE_DENSITY\n",
    "    \n",
    "    return np.array([0,0,-9.81 * particle_mass])\n",
    "    "
   ]
  },
  {
   "cell_type": "markdown",
   "metadata": {},
   "source": [
    "## Calculation the trajectories:"
   ]
  },
  {
   "cell_type": "code",
   "execution_count": 66,
   "metadata": {},
   "outputs": [],
   "source": [
    "def calc_total_force(pos: np.array, vel: np.array, charge: float, field_strength, radius):\n",
    "    \"\"\"\n",
    "    Calculates the total force working on a particle based on its position, velocity, charge and radius. \n",
    "    \"\"\"\n",
    "    total_force = magnetic_field_force(pos, vel, charge, field_strength = field_strength) +\\\n",
    "                  retticle_attraction_force(pos, charge) +\\\n",
    "                  drag_force(pos,vel, radius) + gravity_force(radius)\n",
    "    \n",
    "    return total_force"
   ]
  },
  {
   "cell_type": "code",
   "execution_count": 67,
   "metadata": {},
   "outputs": [],
   "source": [
    "def next_step(pos: np.array, vel: np.array, mass:float, charge:float,field_strength:float,radius:float,\\\n",
    "              timestep:float = TIMESTEP):\n",
    "    \"\"\"\n",
    "    Calculates the next position and velocity of the particle based on its current postion and velocity using the \n",
    "    Runga-Kutta methode:https://nl.wikipedia.org/wiki/Runge-Kuttamethode\n",
    "    This is like an improved version of the euler method in which new particle positions and velocities are calculated based on\n",
    "    newtons second law: dv = F/m dt, dx = dv * dt\n",
    "    \n",
    "    \"\"\"\n",
    "    k1_vel = timestep * calc_total_force(pos, vel, charge,field_strength,radius)/mass\n",
    "    k1_pos = timestep * vel\n",
    "    \n",
    "    k2_vel = timestep * calc_total_force(pos + k1_pos/2, vel + k1_vel/2, charge,field_strength,radius)/mass\n",
    "    k2_pos = timestep * (vel + k1_vel/2)\n",
    "    \n",
    "    k3_vel = timestep * calc_total_force(pos + k2_pos/2, vel + k2_vel/2, charge,field_strength,radius)/mass\n",
    "    k3_pos = timestep * (vel + k2_vel/2)\n",
    "    \n",
    "    k4_vel = timestep * calc_total_force(pos + k3_pos, vel + k3_vel, charge,field_strength,radius)/mass\n",
    "    k4_pos = timestep * (vel + k3_vel)\n",
    "    \n",
    "    new_pos = pos + 1/6*(k1_pos + 2* k2_pos + 2*k3_pos +k4_pos)\n",
    "    new_vel = vel + 1/6*(k1_vel + 2* k2_vel + 2*k3_vel +k4_vel)\n",
    "    \n",
    "    return new_pos, new_vel"
   ]
  },
  {
   "cell_type": "code",
   "execution_count": 72,
   "metadata": {},
   "outputs": [],
   "source": [
    "def calc_trajectory(vel, charge: float , mass: float, field_strength:float, radius:float, save: bool = False):\n",
    "    \"\"\"\n",
    "    This function can be created to calculate the trajectory for 1 particle in the force fields specified above.\n",
    "    Particles alway start at origin and the initial velocity, mass and charge need to be specified.\n",
    "    \n",
    "    The particle's trajectory is calculated as follows:\n",
    "    every TIMESTEP the forces on the particle are calculated. Using newtons second law this is translated into a new \n",
    "    velocity and new position after the timestep. Then for the new velocity and position it is all repeated again.\n",
    "    \n",
    "    The programm is then finished when the particle has reached z= Z_RETICLE (the reticle) or after 1e4 iterations \n",
    "    (to prevent from getting stuck in a loop) \n",
    "    \n",
    "    if save, the entire trajectory is returned, otherwise only the final position\n",
    "    \"\"\"\n",
    "    # The starting position for all particles in the simulation:\n",
    "    pos = np.array([0.,0.,0.]) \n",
    "    list_x_pos = [pos[0]]\n",
    "    list_y_pos = [pos[1]]\n",
    "    list_z_pos = [pos[2]]\n",
    "    \n",
    "    number_of_iterations = 0  \n",
    "    \n",
    "    # calculating every step until hit reticle or far away retticle or \"stuck\" in a loop\n",
    "    still_inside = True\n",
    "    while still_inside and number_of_iterations <1e4: \n",
    "        \n",
    "        # calc next velocity and pos according to runga kutta method\n",
    "        new_pos, new_vel =next_step(pos, vel, mass, charge, field_strength, radius)\n",
    "        pos, vel = new_pos, new_vel\n",
    "        \n",
    "        if save:\n",
    "            list_x_pos.append(pos[0])\n",
    "            list_y_pos.append(pos[1])\n",
    "            list_z_pos.append(pos[2])\n",
    "            \n",
    "        number_of_iterations += 1\n",
    "        \n",
    "        # check if still close to reticle and not yet hit reticle (all max 1m away)\n",
    "        if RETICLE_Z - 0.4 < pos[2] < RETICLE_Z and -1 < pos[0] < 1 and -1 < pos[1] < 1 :\n",
    "            still_inside = True   \n",
    "        else:\n",
    "            still_inside = False  \n",
    "        \n",
    "    \n",
    "    # if save also get additional info\n",
    "    if save:\n",
    "        print(f\"Number of iterations needed: {number_of_iterations}\")\n",
    "        print(f\"Velocity at the end: {vel}\")\n",
    "        \n",
    "    # if run out of iterations or clearly did not hit reticle, set color to green else to red\n",
    "    # important for final cell of code, for now just ignore\n",
    "    if number_of_iterations >= 1e4 or (still_inside == False and pos[2]< RETICLE_Z-0.01):\n",
    "        never_hit = 'green'\n",
    "    else:\n",
    "        never_hit = 'blue'\n",
    "    \n",
    "    # if save, return the entire trajectory, otherwise just the final position \n",
    "    return (list_x_pos, list_y_pos, list_z_pos , pos) if save else (pos, never_hit)"
   ]
  },
  {
   "cell_type": "markdown",
   "metadata": {},
   "source": [
    "## Plotting the results"
   ]
  },
  {
   "cell_type": "code",
   "execution_count": 32,
   "metadata": {},
   "outputs": [],
   "source": [
    "def setup_figures():\n",
    "    \"\"\"\n",
    "    This function can just be called to initialize the figures (correct spacing, titles, axes etc.).\n",
    "    It will return the 3D axis, the 2D axis and the 2D figure in that order.\n",
    "    \n",
    "    \"\"\"\n",
    "    #Initializing the 3d Figure\n",
    "    ax_3D = plt.axes(projection = '3d')\n",
    "    ax_3D.set_xlabel(\"Y (m)\")\n",
    "    ax_3D.set_ylabel(\"X (m)\")\n",
    "    ax_3D.set_zlabel(\"Z (m)\")\n",
    "    \n",
    "    \n",
    "    #Initialzing the 2D figure\n",
    "    fig_2D, ax_2D = plt.subplots(nrows = 1, ncols = 3, figsize = (10,4), constrained_layout=True, squeeze = False)\n",
    "    fig_2D.suptitle('2D projection of the 3D trajectory', fontsize=16, weight = \"bold\")\n",
    "\n",
    "    ax_2D[0,0].set_title(\"xz-plane\")\n",
    "    ax_2D[0,0].set_xlabel(\"y(m)\")\n",
    "    ax_2D[0,0].set_ylabel(\"z(m)\")\n",
    "\n",
    "    ax_2D[0,1].set_title(\"yz-plane\")\n",
    "\n",
    "    ax_2D[0,2].set_title(\"xy-plane\")\n",
    "    ax_2D[0,2].set_xlabel(\"x(m)\")\n",
    "    ax_2D[0,2].set_ylabel(\"y(m)\")\n",
    "    \n",
    "    return ax_3D, ax_2D, fig_2D\n",
    "    "
   ]
  },
  {
   "cell_type": "markdown",
   "metadata": {},
   "source": [
    "### plotting one trajectory\n",
    "In this plot, particles start at the beginning of the magnets. One can define particle properties at the beginning.\n",
    "\n",
    "The cell below compares the trajectory to a trajectory if the B-field is not present. This can be uncommented if not preffered."
   ]
  },
  {
   "cell_type": "code",
   "execution_count": 13,
   "metadata": {},
   "outputs": [
    {
     "name": "stdout",
     "output_type": "stream",
     "text": [
      "Starting trajectory calculation....\n",
      "Number of iterations needed: 348\n",
      "Velocity at the end: [ 0.88663324  0.         12.20089624]\n",
      "Number of iterations needed: 348\n",
      "Velocity at the end: [ 0.6928671   0.         12.13542121]\n",
      "Finished, starting plot....\n",
      "Done\n"
     ]
    }
   ],
   "source": [
    "#some parameters for just this run, one can change to see how the result changes\n",
    "radius = 200e-9\n",
    "initial_velocity = np.array([0, 0, 10])\n",
    "B_strength = 1.5\n",
    "\n",
    "particle_mass = calc_mass(radius)\n",
    "particle_charge = calc_charge(radius)\n",
    "\n",
    "\n",
    "print(\"Starting trajectory calculation....\")\n",
    "list_x_pos, list_y_pos, list_z_pos , final_pos = calc_trajectory(initial_velocity, particle_charge, particle_mass, B_strength,\n",
    "                                                                 radius, save = True)\n",
    "# also calculate if B-field =0 for comparison \n",
    "list_x_pos2, list_y_pos2, list_z_pos2 , final_pos2 = calc_trajectory(initial_velocity, particle_charge, particle_mass, 0,\n",
    "                                                                 radius, save = True)\n",
    "\n",
    "print(\"Finished, starting plot....\")\n",
    "\n",
    "#initializing figures:\n",
    "ax_3D, ax_2D, fig_2D = setup_figures()\n",
    "\n",
    "# Plotting the results in 3d axis\n",
    "ax_3D.scatter([0],[0],[0], marker = \"o\", s=100, color = \"red\") # the starting point \n",
    "ax_3D.plot3D(list_x_pos,list_y_pos,list_z_pos)                      # the trajectory \n",
    "ax_3D.plot3D(list_x_pos2,list_y_pos2,list_z_pos2)  \n",
    "\n",
    "ax_3D.legend([\"With magnet\", \"Without magnet\"])\n",
    "\n",
    "#plotting result in 2d axes.\n",
    "ax_2D[0,0].plot(list_x_pos,list_z_pos)\n",
    "ax_2D[0,1].plot(list_y_pos,list_z_pos)\n",
    "ax_2D[0,2].plot(list_x_pos,list_y_pos)\n",
    "\n",
    "ax_2D[0,0].plot(list_x_pos2,list_z_pos2)\n",
    "ax_2D[0,1].plot(list_y_pos2,list_z_pos2)\n",
    "ax_2D[0,2].plot(list_x_pos2,list_y_pos2)\n",
    "\n",
    "ax_2D[0,0].scatter(0,0,c=\"red\")\n",
    "ax_2D[0,0].legend([\"With magnet\", \"Without magnet\"])\n",
    "\n",
    "\n",
    "print(\"Done\")"
   ]
  },
  {
   "cell_type": "markdown",
   "metadata": {},
   "source": [
    "### plotting a few trajectories\n",
    "\n",
    "Using the cell below, it is possible to plot the particle velocities for a range of particle properties by simply changing a few things. (You'll figure it out yourself if you carefully read through it)"
   ]
  },
  {
   "cell_type": "code",
   "execution_count": 73,
   "metadata": {},
   "outputs": [
    {
     "name": "stdout",
     "output_type": "stream",
     "text": [
      "\n",
      " Starting trajectory calcluation next particle with value 2.5e-08\n",
      "Number of iterations needed: 10000\n",
      "Velocity at the end: [ 0.67693936  0.         -0.81684453]\n",
      "\n",
      " Starting trajectory calcluation next particle with value 5e-08\n",
      "Number of iterations needed: 10000\n",
      "Velocity at the end: [1.68955518 0.         2.43608602]\n",
      "\n",
      " Starting trajectory calcluation next particle with value 1e-07\n",
      "Number of iterations needed: 7833\n",
      "Velocity at the end: [ 2.39606529  0.         15.88331164]\n",
      "\n",
      " Starting trajectory calcluation next particle with value 2e-07\n",
      "Number of iterations needed: 6947\n",
      "Velocity at the end: [ 0.89091551  0.         10.58936532]\n",
      "\n",
      " Starting trajectory calcluation next particle with value 5e-07\n",
      "Number of iterations needed: 6538\n",
      "Velocity at the end: [0.2832244  0.         9.43150581]\n",
      "\n",
      " Starting trajectory calcluation next particle with value 5e-06\n",
      "Number of iterations needed: 6321\n",
      "Velocity at the end: [0.02380279 0.         9.62427657]\n",
      "\n",
      " Done\n"
     ]
    },
    {
     "data": {
      "text/plain": [
       "<matplotlib.legend.Legend at 0x1de82c664f0>"
      ]
     },
     "execution_count": 73,
     "metadata": {},
     "output_type": "execute_result"
    }
   ],
   "source": [
    "#some parameters for just this run, one can change to see how the result changes\n",
    "radius = 50e-9\n",
    "initial_velocity = np.array([0, 0, 10])\n",
    "B_strength = 1.5\n",
    "\n",
    "particle_mass = calc_mass(radius)\n",
    "particle_charge = calc_charge(radius)\n",
    "\n",
    "#initializing figures:\n",
    "ax_3D, ax_2D, fig_2D = setup_figures()\n",
    "ax_3D.scatter([0],[0],[0], marker = \"o\", s=100, color = \"red\") # the starting point \n",
    "\n",
    "#just create a list with all the quantities you want to measure, don't forget to also update legend!\n",
    "particle_r_list = [25e-9, 50e-9, 100e-9, 200e-9, 500e-9, 5000e-9]\n",
    "\n",
    "#in this run as an example I changed the initial velocity, changes this to the desired quantity\n",
    "for radius in particle_r_list:\n",
    "    print(\"\\n\",f\"Starting trajectory calcluation next particle with value {radius}\")\n",
    "    \n",
    "    #update the quantity(-ies) \n",
    "    particle_mass = calc_mass(radius)\n",
    "    particle_charge = calc_charge(radius)\n",
    "    \n",
    "    #again calc everything trajectory\n",
    "    list_x_pos, list_y_pos, list_z_pos , final_pos = calc_trajectory(initial_velocity, particle_charge, particle_mass,\n",
    "                                                                     B_strength,radius, save = True)\n",
    "\n",
    "    # updating plots\n",
    "    ax_3D.plot3D(list_x_pos,list_y_pos,list_z_pos)  \n",
    "    ax_2D[0,0].plot(list_x_pos,list_z_pos)\n",
    "    ax_2D[0,1].plot(list_y_pos,list_z_pos)\n",
    "    ax_2D[0,2].plot(list_x_pos,list_y_pos)\n",
    "    \n",
    "    \n",
    "print(\"\\n\",\"Done\")\n",
    "\n",
    "ax_3D.legend(particle_r_list)\n",
    "ax_2D[0,0].legend(particle_r_list)\n",
    "\n",
    "# # If we want to make it rotate (for a video):\n",
    "# for angle in range(0, 360):\n",
    "#     ax_3D.view_init(30, angle)\n",
    "#     plt.draw()\n",
    "#     plt.pause(.001)"
   ]
  },
  {
   "cell_type": "markdown",
   "metadata": {},
   "source": [
    "### plotting all of the final distances depending on some properties\n",
    "One needs to set the timestep to a smaller number to get reliable reliable results here, but then it will take longer to run the cell.\n",
    "\n",
    "As the cell is right now, it will plot the final distances depending on the particle radius."
   ]
  },
  {
   "cell_type": "code",
   "execution_count": 46,
   "metadata": {},
   "outputs": [
    {
     "name": "stdout",
     "output_type": "stream",
     "text": [
      "dic of distances: {5e-09: 0, 1.5000000000000002e-08: 0, 2.5000000000000002e-08: 0, 3.5e-08: 0, 4.5000000000000006e-08: 0.023205700188018593, 5.5e-08: 0.006819201350525463, 6.5e-08: 0.003718937102758775, 7.500000000000001e-08: 0.002497299028731807, 8.500000000000001e-08: 0.0018332900091455205, 9.5e-08: 0.001459543724492834, 1.0000000000000001e-07: 0.0013171971737201461, 1.2500000000000002e-07: 0.0008786946264870476, 1.5000000000000002e-07: 0.0006662881814081921, 1.7500000000000002e-07: 0.0005256167064855793, 2.0000000000000002e-07: 0.0004338188318258759, 2.2500000000000002e-07: 0.0003745231832372794, 2.5000000000000004e-07: 0.00033789652066620955, 2.75e-07: 0.00028438830226812893, 3.0000000000000004e-07: 0.0002656469444048101, 3.25e-07: 0.0002472271171715418, 3.5000000000000004e-07: 0.0002150469248222437, 3.75e-07: 0.00021099292184086136, 4.0000000000000003e-07: 0.00019198977365799178, 4.25e-07: 0.0001669877737636758, 4.5000000000000003e-07: 0.0001627054537440388, 4.75e-07: 0.00016954432286261242, 5.000000000000001e-07: 0.00014684850051228108, 5.250000000000001e-07: 0.00013917538312974655, 5.5e-07: 0.00015152818876571349, 5.75e-07: 0.0001421926890132514, 6.000000000000001e-07: 0.0001167066083216076, 6.25e-07: 0.00011561613937297132, 6.5e-07: 0.00010515404264239965, 6.75e-07: 0.00012066182831746939, 7.000000000000001e-07: 0.00013182199578760446, 7.25e-07: 0.00012919492925287334, 7.5e-07: 0.0001141344218545088, 7.750000000000001e-07: 9.211985853923109e-05, 8.000000000000001e-07: 0.00011384813112973246, 8.25e-07: 8.021204172022737e-05, 8.5e-07: 8.128051800108705e-05, 8.750000000000001e-07: 8.013099982638842e-05, 9.000000000000001e-07: 7.560670409670562e-05, 9.25e-07: 7.002740800979625e-05, 9.5e-07: 9.764321243961768e-05, 9.75e-07: 7.424873587083859e-05}\n",
      "Done\n"
     ]
    }
   ],
   "source": [
    "#some parameters for just this run, one can change to see how the result changes\n",
    "radius = 50e-9\n",
    "initial_velocity = np.array([0, 0, 10])\n",
    "B_strength = 0\n",
    "\n",
    "#just create a list with all the quantities you want to measure\n",
    "particle_r_list = list(range(5,100,10))+ list(range(100,1000, 25))\n",
    "\n",
    "# a list to hold the colors of dots to make clear if hit reticle or not\n",
    "color_list = []\n",
    "\n",
    "#a dictionary to hold all of the distances\n",
    "distances = {}\n",
    "\n",
    "for radius in particle_r_list:\n",
    "    radius = radius * 10**-9\n",
    "    \n",
    "    #update the quantity(-ies) \n",
    "    particle_mass = calc_mass(radius)\n",
    "    particle_charge = calc_charge(radius)\n",
    "        \n",
    "    final_pos, never_hit = calc_trajectory(initial_velocity,particle_charge, particle_mass,B_strength,radius, save = False)\n",
    "    \n",
    "    color_list.append(never_hit)\n",
    "    #if doesn't hit final position doesn't matter so don't calc distance\n",
    "    if never_hit == 'green':\n",
    "        distance = 0\n",
    "    else:\n",
    "        # calc distance to centre reticle at (0,0,RETICLE_Z):\n",
    "        reticle_center = np.array([0,0, RETICLE_Z]) \n",
    "        distance = np.linalg.norm(final_pos - reticle_center)\n",
    "        \n",
    "    distances[radius] = distance\n",
    "\n",
    "    \n",
    "print(f\"dic of distances: {distances}\")\n",
    "\n",
    "#create the plot. Particles never hitting the reticle are colored green. Others are all colored blue.\n",
    "plt.scatter(list(distances.keys()),list(distances.values()), c=color_list)\n",
    "plt.xlabel(\"Particle radius (m)\")\n",
    "plt.ylabel(\"Horizontal displacement (m)\")\n",
    "\n",
    "print(\"Done\")"
   ]
  },
  {
   "cell_type": "markdown",
   "metadata": {},
   "source": [
    "## plotting the efficiency in the particle deflection by adding a magnet w.r.t no magnet\n",
    "Similary, also here the timestep should be set much smaller for reliable results, which will again result in much larger computation times."
   ]
  },
  {
   "cell_type": "code",
   "execution_count": 68,
   "metadata": {},
   "outputs": [
    {
     "name": "stdout",
     "output_type": "stream",
     "text": [
      "dic of distances: {5e-09: 0, 1.5000000000000002e-08: 0, 2.5000000000000002e-08: 0, 3.5e-08: 0, 4.5000000000000006e-08: 0, 5.5e-08: 0, 6.5e-08: 1179.9415609530208, 7.500000000000001e-08: 1247.50581208396, 8.500000000000001e-08: 1266.9458958484047, 9.5e-08: 1244.954608755997, 1.0000000000000001e-07: 1233.5256344894653, 1.2500000000000002e-07: 1141.7634902081961, 1.5000000000000002e-07: 1039.1554796600683, 1.7500000000000002e-07: 945.9456544251225, 2.0000000000000002e-07: 865.9013513821599, 2.2500000000000002e-07: 783.0153434947562, 2.5000000000000004e-07: 724.2083483721526, 2.75e-07: 685.0058916680124, 3.0000000000000004e-07: 637.4279814293704, 3.25e-07: 591.5203555076125, 3.5000000000000004e-07: 551.5382619403034, 3.75e-07: 522.9223070747855, 4.0000000000000003e-07: 502.16566902020696, 4.25e-07: 477.92012204453636, 4.5000000000000003e-07: 436.8868937766362, 4.75e-07: 420.71347419141773, 5.000000000000001e-07: 387.0925174625702, 5.250000000000001e-07: 370.7660636710058, 5.5e-07: 361.58115951720225, 5.75e-07: 353.58898402745365, 6.000000000000001e-07: 338.9731169734369, 6.25e-07: 314.36105201865814, 6.5e-07: 319.87402199985934, 6.75e-07: 309.0917905920099, 7.000000000000001e-07: 272.9482005285214, 7.25e-07: 260.6421755315432, 7.5e-07: 274.6831690888045, 7.750000000000001e-07: 251.74939849693718, 8.000000000000001e-07: 249.9171519947837, 8.25e-07: 260.35602447575263, 8.5e-07: 238.9820015177727, 8.750000000000001e-07: 227.58209966523398, 9.000000000000001e-07: 231.17660009118703, 9.25e-07: 236.66827123788147, 9.5e-07: 216.2844372062837, 9.75e-07: 193.93207035858012}\n",
      "Done\n"
     ]
    }
   ],
   "source": [
    "# All particles start at the same velocity\n",
    "initial_velocity = np.array([0, 0, 10])\n",
    "\n",
    "\n",
    "#all of the radiuses we want to check still convert to nm\n",
    "particle_r_list = list(range(5,100,10))+ list(range(100,1000, 25))\n",
    "\n",
    "# a list to hold the colors of dots to make clear if hit reticle or not\n",
    "color_list = []\n",
    "\n",
    "#a dictionary to hold all of the efficiencies\n",
    "dictionary_eff = {}\n",
    "\n",
    "for radius in particle_r_list:\n",
    "    radius = radius*1e-9\n",
    "    \n",
    "    \n",
    "    #update the quantity(-ies) \n",
    "    particle_mass = calc_mass(radius)\n",
    "    particle_charge = calc_charge(radius)\n",
    "        \n",
    "    # simulate trajectory and calc final pos with and without magnet\n",
    "    final_pos, never_hit = calc_trajectory(initial_velocity,particle_charge, particle_mass,1.5,radius, save = False)\n",
    "    final_pos_no, never_hit_no = calc_trajectory(initial_velocity,particle_charge, particle_mass,0,radius, save = False)\n",
    "    \n",
    "    #if in both cases never hit reticle, color green and set efficiency to 0 (calc don't matter)\n",
    "    if never_hit == \"green\" and never_hit_no == \"green\":\n",
    "        efficiency = 0\n",
    "        color_list.append(\"green\")\n",
    "    # if only now by adding a magnet no reticle hit, color cyan:\n",
    "    elif never_hit == \"green\" and never_hit_no == \"blue\":\n",
    "        efficiency = 0\n",
    "        color_list.append(\"cyan\")\n",
    "    else:\n",
    "        # calc distance to reticle centre for both cases:\n",
    "        reticle_center = np.array([0,0, RETICLE_Z]) \n",
    "        distance = np.linalg.norm(final_pos - reticle_center)\n",
    "        distance_no = np.linalg.norm(final_pos_no - reticle_center)\n",
    "        \n",
    "        #calc improvement in %:\n",
    "        efficiency = (distance/distance_no-1)*100\n",
    "        \n",
    "        color_list.append(\"blue\")\n",
    "        \n",
    "    dictionary_eff[radius] = efficiency\n",
    "\n",
    "    \n",
    "print(f\"dic of distances: {dictionary_eff}\")\n",
    "\n",
    "#create the plot. Particles never hitting the reticle are colored green. Others are all colored blue.\n",
    "plt.scatter(list(dictionary_eff.keys()),list(dictionary_eff.values()), c=color_list)\n",
    "plt.xlabel(\"Particle radius (m)\")\n",
    "plt.ylabel(\"Distance increase %\")\n",
    "plt.title(\"Final distances increase as function of particle radius\")\n",
    "\n",
    "print(\"Done\")"
   ]
  }
 ],
 "metadata": {
  "kernelspec": {
   "display_name": "Python 3",
   "language": "python",
   "name": "python3"
  },
  "language_info": {
   "codemirror_mode": {
    "name": "ipython",
    "version": 3
   },
   "file_extension": ".py",
   "mimetype": "text/x-python",
   "name": "python",
   "nbconvert_exporter": "python",
   "pygments_lexer": "ipython3",
   "version": "3.8.3"
  }
 },
 "nbformat": 4,
 "nbformat_minor": 4
}
